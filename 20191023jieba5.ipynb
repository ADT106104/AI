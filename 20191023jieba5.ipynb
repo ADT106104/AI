{
 "cells": [
  {
   "cell_type": "code",
   "execution_count": 16,
   "metadata": {},
   "outputs": [
    {
     "name": "stderr",
     "output_type": "stream",
     "text": [
      "Building prefix dict from C:\\Users\\K410\\test\\dict.txt.big.txt ...\n",
      "Loading model from cache C:\\Users\\K410\\AppData\\Local\\Temp\\jieba.ua4338931a6a491573ec2c7da9a7d8a8d.cache\n",
      "Loading model cost 1.102 seconds.\n",
      "Prefix dict has been built succesfully.\n"
     ]
    },
    {
     "name": "stdout",
     "output_type": "stream",
     "text": [
      "停用詞:\"|;|,|，|。|來到\n",
      "去除停用:胡雅淳|國立臺中教育大學|數位系|就讀|學士\n",
      "預設模式:胡雅淳|，|來到|國立臺中教育大學|數位系|就讀|學士|。\n",
      "全文模式:胡雅淳|||來到|國立|國立臺中教育大學|臺中|教育|大學|數位|數位系|就讀|學士||\n",
      "搜尋引擎:胡雅淳|，|來到|國立|臺中|教育|大學|國立臺中教育大學|數位|數位系|就讀|學士|。\n"
     ]
    }
   ],
   "source": [
    "# Jieba5 增加停用字\n",
    "#encoding=utf-8\n",
    "import jieba\n",
    "\n",
    "# 設定繁體中文詞庫\n",
    "jieba.set_dictionary('dict.txt.big.txt')  \n",
    "\n",
    "# 增加自定義停用詞\n",
    "jieba.load_userdict('user_dict.txt')\n",
    "\n",
    "# 打開停用字詞典\n",
    "with open('stopword.txt', 'r', encoding='utf-8-sig') as file:\n",
    "    stops = file.read().split('\\n')  # 將停用詞儲存在stops串列中\n",
    "print(\"停用詞:\"+'|' . join(stops))\n",
    "    \n",
    "sentence = \"胡雅淳，來到國立臺中教育大學數位系就讀學士。\"\n",
    "\n",
    "jieba.add_word('數位系')\n",
    "jieba.add_word('胡雅淳')\n",
    "\n",
    "\n",
    "# 預設模式斷詞\n",
    "breakword = jieba.cut(sentence, cut_all=False)\n",
    "final_words = []   #儲存最後的詞\n",
    "#拆解句子為字詞\n",
    "for word in breakword:     # 拆解句子為字詞\n",
    "    if word not in stops:  #不是停用詞\n",
    "        final_words.append(word)\n",
    "print(\"去除停用:\" + '|' . join(final_words))\n",
    "\n",
    "breakword = jieba.cut(sentence, cut_all=False)\n",
    "print(\"預設模式:\" + '|' . join(breakword))    \n",
    "\n",
    "# 全文模式斷詞\n",
    "breakword = jieba.cut(sentence, cut_all=True)\n",
    "print(\"全文模式:\" + '|' . join(breakword))\n",
    "\n",
    "# 搜尋引擎模式斷詞\n",
    "breakword = jieba.cut_for_search(sentence)\n",
    "print(\"搜尋引擎:\" + '|' . join(breakword))"
   ]
  },
  {
   "cell_type": "code",
   "execution_count": 9,
   "metadata": {},
   "outputs": [
    {
     "name": "stderr",
     "output_type": "stream",
     "text": [
      "Building prefix dict from C:\\Users\\K410\\test\\dict.txt.big.txt ...\n",
      "Dumping model to file cache C:\\Users\\K410\\AppData\\Local\\Temp\\jieba.ua4338931a6a491573ec2c7da9a7d8a8d.cache\n",
      "Loading model cost 1.665 seconds.\n",
      "Prefix dict has been built succesfully.\n"
     ]
    },
    {
     "name": "stdout",
     "output_type": "stream",
     "text": [
      "預設模式:我|來到|台中教育大學|就讀|碩士\n",
      "全文模式:我|來到|台中|台中教育大學|教育|大學|就讀|碩士\n",
      "搜尋引擎:我|來到|台中|教育|大學|台中教育大學|就讀|碩士\n"
     ]
    }
   ],
   "source": []
  },
  {
   "cell_type": "code",
   "execution_count": null,
   "metadata": {},
   "outputs": [],
   "source": []
  }
 ],
 "metadata": {
  "kernelspec": {
   "display_name": "Python 3",
   "language": "python",
   "name": "python3"
  },
  "language_info": {
   "codemirror_mode": {
    "name": "ipython",
    "version": 3
   },
   "file_extension": ".py",
   "mimetype": "text/x-python",
   "name": "python",
   "nbconvert_exporter": "python",
   "pygments_lexer": "ipython3",
   "version": "3.5.0"
  }
 },
 "nbformat": 4,
 "nbformat_minor": 2
}
