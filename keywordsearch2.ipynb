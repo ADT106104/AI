{
 "cells": [
  {
   "cell_type": "code",
   "execution_count": 2,
   "metadata": {},
   "outputs": [],
   "source": [
    "import requests\n",
    "url='https://dct.ntcu.edu.tw/'\n",
    "html=requests.get(url)\n",
    "html.encoding=\"utf-8\"\n",
    "#print(html.text)\n",
    "\n",
    "htmllist = html.text.splitlines()\n",
    "#print(htmllist)"
   ]
  },
  {
   "cell_type": "code",
   "execution_count": 3,
   "metadata": {},
   "outputs": [
    {
     "name": "stdout",
     "output_type": "stream",
     "text": [
      "找到4次\n"
     ]
    }
   ],
   "source": [
    "n=0\n",
    "keyword= \"數位\"\n",
    "for row in htmllist:\n",
    "    if keyword in row: n+=1\n",
    "print(\"找到{}次\".format(n))"
   ]
  },
  {
   "cell_type": "code",
   "execution_count": null,
   "metadata": {},
   "outputs": [],
   "source": []
  },
  {
   "cell_type": "code",
   "execution_count": null,
   "metadata": {},
   "outputs": [],
   "source": []
  },
  {
   "cell_type": "code",
   "execution_count": null,
   "metadata": {},
   "outputs": [],
   "source": []
  },
  {
   "cell_type": "code",
   "execution_count": null,
   "metadata": {},
   "outputs": [],
   "source": []
  }
 ],
 "metadata": {
  "kernelspec": {
   "display_name": "Python 3",
   "language": "python",
   "name": "python3"
  }
 },
 "nbformat": 4,
 "nbformat_minor": 2
}
